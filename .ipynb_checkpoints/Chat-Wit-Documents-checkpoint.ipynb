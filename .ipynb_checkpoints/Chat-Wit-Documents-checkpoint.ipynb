{
 "cells": [
  {
   "cell_type": "code",
   "execution_count": 37,
   "id": "4e6de4a8",
   "metadata": {},
   "outputs": [],
   "source": [
    "from langchain.document_loaders import PyPDFLoader\n",
    "from langchain import PromptTemplate, LLMChain\n",
    "from langchain.embeddings import HuggingFaceEmbeddings\n",
    "from langchain.llms import GPT4All\n",
    "from langchain.text_splitter import RecursiveCharacterTextSplitter\n",
    "from langchain.vectorstores.faiss import FAISS\n",
    "from langchain.callbacks.base import BaseCallbackManager\n",
    "from langchain.callbacks.streaming_stdout import StreamingStdOutCallbackHandler"
   ]
  },
  {
   "cell_type": "code",
   "execution_count": 38,
   "id": "db76a3f9",
   "metadata": {},
   "outputs": [],
   "source": [
    "import os\n",
    "current_path = os.getcwd()\n",
    "documents_path = os.path.join(current_path, \"Documents\")\n",
    "lecture_paths = [os.path.join(current_path, \"Documents\",lecture_name) for lecture_name in os.listdir(documents_path) if lecture_name.endswith('.pdf')]\n",
    "index_path = os.path.join(current_path,\"index\")\n",
    "gpt4all_path = os.path.join(current_path,\"models\",\"mistral-7b-openorca.Q4_0.gguf\")"
   ]
  },
  {
   "cell_type": "code",
   "execution_count": 39,
   "id": "9e7ed94b",
   "metadata": {},
   "outputs": [
    {
     "data": {
      "text/plain": [
       "True"
      ]
     },
     "execution_count": 39,
     "metadata": {},
     "output_type": "execute_result"
    }
   ],
   "source": [
    "os.path.exists(gpt4all_path)"
   ]
  },
  {
   "cell_type": "code",
   "execution_count": 40,
   "id": "04e37dd7",
   "metadata": {},
   "outputs": [
    {
     "name": "stdout",
     "output_type": "stream",
     "text": [
      "412\n"
     ]
    }
   ],
   "source": [
    "texts = []\n",
    "for lecture_path in lecture_paths:\n",
    "    documents = PyPDFLoader(lecture_path).load_and_split()\n",
    "    text_splitter = RecursiveCharacterTextSplitter(chunk_size=1024,chunk_overlap=64)\n",
    "    texts = texts + text_splitter.split_documents(documents)\n",
    "print(len(texts))\n",
    "embeddings = HuggingFaceEmbeddings(model_name='sentence-transformers/all-MiniLM-L6-v2')\n",
    "faiss_index = FAISS.from_documents(texts, embeddings)\n",
    "faiss_index.save_local(index_path)"
   ]
  },
  {
   "cell_type": "code",
   "execution_count": 41,
   "id": "ff3d7614",
   "metadata": {},
   "outputs": [],
   "source": [
    "embeddings = HuggingFaceEmbeddings(model_name='sentence-transformers/all-MiniLM-L6-v2')"
   ]
  },
  {
   "cell_type": "code",
   "execution_count": 42,
   "id": "f2c4616b",
   "metadata": {},
   "outputs": [
    {
     "name": "stdout",
     "output_type": "stream",
     "text": [
      "loading indexes\n",
      "index loaded\n"
     ]
    }
   ],
   "source": [
    "# load vector store\n",
    "print(\"loading indexes\")\n",
    "faiss_index = FAISS.load_local(index_path, embeddings)\n",
    "print(\"index loaded\")\n"
   ]
  },
  {
   "cell_type": "code",
   "execution_count": 43,
   "id": "1f6c7506",
   "metadata": {},
   "outputs": [],
   "source": [
    "question = \"What are the differences between MAR, MCAR, and MNAR\"\n",
    "matched_docs = faiss_index.similarity_search(question, 7)\n",
    "context = \"\"\n",
    "for doc in matched_docs:\n",
    "    context = context + doc.page_content + \" \\n\\n \""
   ]
  },
  {
   "cell_type": "code",
   "execution_count": 44,
   "id": "cf350ce5",
   "metadata": {},
   "outputs": [
    {
     "name": "stdout",
     "output_type": "stream",
     "text": [
      "4176\n"
     ]
    }
   ],
   "source": [
    "print(len(context))"
   ]
  },
  {
   "cell_type": "code",
   "execution_count": 45,
   "id": "37fad3c9",
   "metadata": {},
   "outputs": [
    {
     "name": "stdout",
     "output_type": "stream",
     "text": [
      "○Missing Completely At Random (MCAR ) –there is no relationship between the missing \n",
      "data mechanism and any values, observed or missing\n",
      "•Probability of being missing is the same for all values\n",
      "•e.g. if weighing scale ran out of battery, weight attribute has values MCAR\n",
      "○Missing At Random (MAR ) –there is a systematic relationship between the propensity of \n",
      "missing values and the observed data , but notthe missing data\n",
      "•missingness can be explained by variables on which you have full information\n",
      "•e.g. if men are more likely to tell their weight than women, weight is MAR (what is the \n",
      "observed variable here?)\n",
      "○MCAR and MAR are ignorable –enough information is available in the data to allow \n",
      "imputing missing values, therefore the missing data mechanism can be ignored\n",
      "11\n",
      "Data Engineering -Data Preprocessing I © M.Abuelkheir, GUCTypes of Missing Values \n",
      "\n",
      " 47\n",
      "Data Engineering -ML Primer © M.Abuelkheir, GUCClass Imbalance –A Problem!\n",
      "Yes No Total \n",
      "Yes 90 210 300\n",
      "No 140 9560 9700\n",
      "Total 2309770\n"
     ]
    }
   ],
   "source": [
    "print(context[:1000])"
   ]
  },
  {
   "cell_type": "code",
   "execution_count": 50,
   "id": "990b66d1",
   "metadata": {},
   "outputs": [],
   "source": [
    "template = \"\"\"\n",
    "Please use the following context to answer questions.\n",
    "Context: {context}\n",
    " - -\n",
    "Question: {question}\n",
    "Explain the concept clearly and then give your own analogy\n",
    " \"\"\""
   ]
  },
  {
   "cell_type": "code",
   "execution_count": 47,
   "id": "5182f29c",
   "metadata": {},
   "outputs": [],
   "source": [
    "callback_manager = BaseCallbackManager([StreamingStdOutCallbackHandler()])\n",
    "llm = GPT4All(model=gpt4all_path, callback_manager=callback_manager, verbose=True,repeat_last_n=0)\n",
    "prompt = PromptTemplate(template=template, input_variables=[\"context\", \"question\"]).partial(context=context)\n",
    "llm_chain = LLMChain(prompt=prompt, llm=llm)"
   ]
  },
  {
   "cell_type": "code",
   "execution_count": 51,
   "id": "c09ff3ec",
   "metadata": {},
   "outputs": [
    {
     "name": "stdout",
     "output_type": "stream",
     "text": [
      "\n",
      "Answer: The differences between MAR, MCAR, and MNAR are as follows:\n",
      "\n",
      "1. Missing Completely At Random (MCAR): In this case, there is no relationship between the missing data mechanism and any values, observed or missing. The probability of being missing is the same for all values. For example, if a weighing scale runs out of battery, the weight attribute has values MCAR.\n",
      "\n",
      "2. Missing At Random (MAR): There is a systematic relationship between the propensity of missing values and the observed data, but not the missing data. Missingness can be explained by variables on which you have full information. For example, if men are more likely to tell their weight than women, weight is MAR (what is the observed variable here?).\n",
      "\n",
      "3. Missing Not at Random (MNAR): There is a relationship between the propensity of a value to be missing and its values. The probability of being missing varies for reasons that are unknown to us. For example, people with the lowest education have missing education levels in the education attribute, the sickest people are most likely to drop out of a medical study, a device measures some response and can only measure values"
     ]
    },
    {
     "data": {
      "text/plain": [
       "'\\nAnswer: The differences between MAR, MCAR, and MNAR are as follows:\\n\\n1. Missing Completely At Random (MCAR): In this case, there is no relationship between the missing data mechanism and any values, observed or missing. The probability of being missing is the same for all values. For example, if a weighing scale runs out of battery, the weight attribute has values MCAR.\\n\\n2. Missing At Random (MAR): There is a systematic relationship between the propensity of missing values and the observed data, but not the missing data. Missingness can be explained by variables on which you have full information. For example, if men are more likely to tell their weight than women, weight is MAR (what is the observed variable here?).\\n\\n3. Missing Not at Random (MNAR): There is a relationship between the propensity of a value to be missing and its values. The probability of being missing varies for reasons that are unknown to us. For example, people with the lowest education have missing education levels in the education attribute, the sickest people are most likely to drop out of a medical study, a device measures some response and can only measure values'"
      ]
     },
     "execution_count": 51,
     "metadata": {},
     "output_type": "execute_result"
    }
   ],
   "source": [
    "llm_chain.run(question)"
   ]
  },
  {
   "cell_type": "code",
   "execution_count": null,
   "id": "b2581787",
   "metadata": {},
   "outputs": [],
   "source": []
  }
 ],
 "metadata": {
  "kernelspec": {
   "display_name": "Python 3 (ipykernel)",
   "language": "python",
   "name": "python3"
  },
  "language_info": {
   "codemirror_mode": {
    "name": "ipython",
    "version": 3
   },
   "file_extension": ".py",
   "mimetype": "text/x-python",
   "name": "python",
   "nbconvert_exporter": "python",
   "pygments_lexer": "ipython3",
   "version": "3.9.15"
  }
 },
 "nbformat": 4,
 "nbformat_minor": 5
}
